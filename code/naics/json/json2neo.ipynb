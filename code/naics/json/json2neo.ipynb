{
 "cells": [
  {
   "cell_type": "code",
   "execution_count": 1,
   "metadata": {},
   "outputs": [],
   "source": [
    "from py2neo import Graph, Node, Relationship\n",
    "import json"
   ]
  },
  {
   "cell_type": "code",
   "execution_count": 2,
   "metadata": {},
   "outputs": [],
   "source": [
    "g = Graph(password=\"neo4jneo4j\")"
   ]
  },
  {
   "cell_type": "code",
   "execution_count": 3,
   "metadata": {},
   "outputs": [],
   "source": [
    "with open('google.json') as f:\n",
    "    google_data = json.load(f)\n",
    "with open('apple.json') as f:\n",
    "    apple_data = json.load(f)\n",
    "with open('microsoft.json') as f:\n",
    "    microsoft_data = json.load(f)\n",
    "with open('fitbit.json') as f:\n",
    "    fitbit_data = json.load(f)\n",
    "with open('facebook.json') as f:\n",
    "    facebook_data = json.load(f)\n",
    "with open('motorola.json') as f:\n",
    "    motorola_data = json.load(f)"
   ]
  },
  {
   "cell_type": "code",
   "execution_count": 4,
   "metadata": {},
   "outputs": [],
   "source": [
    "google_node = Node(\"Company\", name = google_data[0]['Title'], website=google_data[0]['Website'])\n",
    "apple_node = Node(\"Company\", name = apple_data[0]['Title'], website=apple_data[0]['Website'])\n",
    "microsoft_node = Node(\"Company\", name = microsoft_data[0]['Title'], website=microsoft_data[0]['Website'])\n",
    "fitbit_node = Node(\"Company\", name = fitbit_data[0]['Title'], website=fitbit_data[0]['Website'])\n",
    "facebook_node = Node(\"Company\", name = facebook_data[0]['Title'], website=facebook_data[0]['Website'])\n",
    "motorola_node = Node(\"Company\", name = motorola_data[0]['Title'], website=motorola_data[0]['Website'])"
   ]
  },
  {
   "cell_type": "code",
   "execution_count": 5,
   "metadata": {},
   "outputs": [],
   "source": [
    "COMPETES_WITH = Relationship.type(\"COMPETES_WITH\")\n",
    "ACQUIRED_BY = Relationship.type(\"ACQUIRED_BY\")\n",
    "g.merge(COMPETES_WITH(apple_node, google_node), \"Company\", \"name\")\n",
    "g.merge(COMPETES_WITH(microsoft_node, google_node), \"Company\", \"name\")\n",
    "g.merge(COMPETES_WITH(facebook_node, google_node), \"Company\", \"name\")\n",
    "g.merge(ACQUIRED_BY(fitbit_node, google_node), \"Company\", \"name\")\n",
    "g.merge(ACQUIRED_BY(motorola_node, google_node), \"Company\", \"name\")"
   ]
  },
  {
   "cell_type": "code",
   "execution_count": 6,
   "metadata": {},
   "outputs": [],
   "source": [
    "for i in facebook_data[0]['Founders'].split(','):\n",
    "    g.create(Relationship(facebook_node, \"FOUNDED_BY\", Node(\"Person\", name=i)))\n",
    "for i in microsoft_data[0]['Founders'].split(','):\n",
    "    g.create(Relationship(microsoft_node, \"FOUNDED_BY\", Node(\"Person\", name=i)))\n",
    "for i in google_data[0]['Founders'].split(','):\n",
    "    g.create(Relationship(google_node, \"FOUNDED_BY\", Node(\"Person\", name=i)))\n",
    "for i in apple_data[0]['Founders'].split(','):\n",
    "    g.create(Relationship(apple_node, \"FOUNDED_BY\", Node(\"Person\", name=i)))"
   ]
  },
  {
   "cell_type": "code",
   "execution_count": 7,
   "metadata": {},
   "outputs": [],
   "source": [
    "for i in facebook_data[0]['Industry'].split(','):\n",
    "    temp = Node(\"Industry\", name=i.lstrip())\n",
    "    g.merge(temp, \"Industry\", \"name\")\n",
    "    temp1 = Relationship(facebook_node, \"BUSINESS\", temp)\n",
    "    g.merge(temp1)     \n",
    "\n",
    "for i in microsoft_data[0]['Industry'].split(','):\n",
    "    temp = Node(\"Industry\", name=i.lstrip())\n",
    "    g.merge(temp, \"Industry\", \"name\")\n",
    "    temp1 = Relationship(microsoft_node, \"BUSINESS\", temp)\n",
    "    g.merge(temp1)     \n",
    "\n",
    "for i in google_data[0]['Industry'].split(','):\n",
    "    temp = Node(\"Industry\", name=i.lstrip())\n",
    "    g.merge(temp, \"Industry\", \"name\")\n",
    "    temp1 = Relationship(google_node, \"BUSINESS\", temp)\n",
    "    g.merge(temp1)     \n",
    "\n",
    "for i in apple_data[0]['Industry'].split(','):\n",
    "    temp = Node(\"Industry\", name=i.lstrip())\n",
    "    g.merge(temp, \"Industry\", \"name\")\n",
    "    temp1 = Relationship(apple_node, \"BUSINESS\", temp)\n",
    "    g.merge(temp1) "
   ]
  },
  {
   "cell_type": "code",
   "execution_count": 14,
   "metadata": {},
   "outputs": [
    {
     "data": {
      "text/plain": [
       "[{'a': (_118:Person {name: ' Ronald Wayne'}),\n",
       "  'b': (Apple Inc.)-[:FOUNDED_BY {}]->(Ronald Wayne),\n",
       "  'c': (_97:Company {name: 'Apple Inc.', website: 'www.apple.com'})},\n",
       " {'a': (_117:Person {name: ' Steve Wozniak'}),\n",
       "  'b': (Apple Inc.)-[:FOUNDED_BY {}]->(Steve Wozniak),\n",
       "  'c': (_97:Company {name: 'Apple Inc.', website: 'www.apple.com'})},\n",
       " {'a': (_116:Person {name: 'Steve Jobs'}),\n",
       "  'b': (Apple Inc.)-[:FOUNDED_BY {}]->(Steve Jobs),\n",
       "  'c': (_97:Company {name: 'Apple Inc.', website: 'www.apple.com'})},\n",
       " {'a': (_7:Person {name: ' Ronald Wayne'}),\n",
       "  'b': (Apple Inc.)-[:FOUNDED_BY {}]->(Ronald Wayne),\n",
       "  'c': (_97:Company {name: 'Apple Inc.', website: 'www.apple.com'})},\n",
       " {'a': (_6:Person {name: ' Steve Wozniak'}),\n",
       "  'b': (Apple Inc.)-[:FOUNDED_BY {}]->(Steve Wozniak),\n",
       "  'c': (_97:Company {name: 'Apple Inc.', website: 'www.apple.com'})},\n",
       " {'a': (_5:Person {name: 'Steve Jobs'}),\n",
       "  'b': (Apple Inc.)-[:FOUNDED_BY {}]->(Steve Jobs),\n",
       "  'c': (_97:Company {name: 'Apple Inc.', website: 'www.apple.com'})},\n",
       " {'a': (_115:Person {name: ' Sergey Brin'}),\n",
       "  'b': (Google)-[:FOUNDED_BY {}]->(Sergey Brin),\n",
       "  'c': (_98:Company {name: 'Google', website: 'google.com'})},\n",
       " {'a': (_114:Person {name: 'Larry Page'}),\n",
       "  'b': (Google)-[:FOUNDED_BY {}]->(Larry Page),\n",
       "  'c': (_98:Company {name: 'Google', website: 'google.com'})},\n",
       " {'a': (_4:Person {name: ' Sergey Brin'}),\n",
       "  'b': (Google)-[:FOUNDED_BY {}]->(Sergey Brin),\n",
       "  'c': (_98:Company {name: 'Google', website: 'google.com'})},\n",
       " {'a': (_3:Person {name: 'Larry Page'}),\n",
       "  'b': (Google)-[:FOUNDED_BY {}]->(Larry Page),\n",
       "  'c': (_98:Company {name: 'Google', website: 'google.com'})},\n",
       " {'a': (_113:Person {name: ' Paul Allen'}),\n",
       "  'b': (Microsoft)-[:FOUNDED_BY {}]->(Paul Allen),\n",
       "  'c': (_99:Company {name: 'Microsoft', website: 'microsoft.com'})},\n",
       " {'a': (_112:Person {name: 'Bill Gates'}),\n",
       "  'b': (Microsoft)-[:FOUNDED_BY {}]->(Bill Gates),\n",
       "  'c': (_99:Company {name: 'Microsoft', website: 'microsoft.com'})},\n",
       " {'a': (_2:Person {name: ' Paul Allen'}),\n",
       "  'b': (Microsoft)-[:FOUNDED_BY {}]->(Paul Allen),\n",
       "  'c': (_99:Company {name: 'Microsoft', website: 'microsoft.com'})},\n",
       " {'a': (_1:Person {name: 'Bill Gates'}),\n",
       "  'b': (Microsoft)-[:FOUNDED_BY {}]->(Bill Gates),\n",
       "  'c': (_99:Company {name: 'Microsoft', website: 'microsoft.com'})},\n",
       " {'a': (_111:Person {name: ' Chris Hughes'}),\n",
       "  'b': (Facebook)-[:FOUNDED_BY {}]->(Chris Hughes),\n",
       "  'c': (_100:Company {name: 'Facebook', website: 'facebook.comfb.com'})},\n",
       " {'a': (_110:Person {name: ' Dustin Moskovitz'}),\n",
       "  'b': (Facebook)-[:FOUNDED_BY {}]->(Dustin Moskovitz),\n",
       "  'c': (_100:Company {name: 'Facebook', website: 'facebook.comfb.com'})},\n",
       " {'a': (_109:Person {name: ' Andrew McCollum'}),\n",
       "  'b': (Facebook)-[:FOUNDED_BY {}]->(Andrew McCollum),\n",
       "  'c': (_100:Company {name: 'Facebook', website: 'facebook.comfb.com'})},\n",
       " {'a': (_108:Person {name: ' Eduardo Saverin'}),\n",
       "  'b': (Facebook)-[:FOUNDED_BY {}]->(Eduardo Saverin),\n",
       "  'c': (_100:Company {name: 'Facebook', website: 'facebook.comfb.com'})},\n",
       " {'a': (_107:Person {name: 'Mark Zuckerberg'}),\n",
       "  'b': (Facebook)-[:FOUNDED_BY {}]->(Mark Zuckerberg),\n",
       "  'c': (_100:Company {name: 'Facebook', website: 'facebook.comfb.com'})},\n",
       " {'a': (_0:Person {name: ' Chris Hughes'}),\n",
       "  'b': (Facebook)-[:FOUNDED_BY {}]->(Chris Hughes),\n",
       "  'c': (_100:Company {name: 'Facebook', website: 'facebook.comfb.com'})},\n",
       " {'a': (_106:Person {name: ' Dustin Moskovitz'}),\n",
       "  'b': (Facebook)-[:FOUNDED_BY {}]->(Dustin Moskovitz),\n",
       "  'c': (_100:Company {name: 'Facebook', website: 'facebook.comfb.com'})},\n",
       " {'a': (_105:Person {name: ' Andrew McCollum'}),\n",
       "  'b': (Facebook)-[:FOUNDED_BY {}]->(Andrew McCollum),\n",
       "  'c': (_100:Company {name: 'Facebook', website: 'facebook.comfb.com'})},\n",
       " {'a': (_104:Person {name: ' Eduardo Saverin'}),\n",
       "  'b': (Facebook)-[:FOUNDED_BY {}]->(Eduardo Saverin),\n",
       "  'c': (_100:Company {name: 'Facebook', website: 'facebook.comfb.com'})},\n",
       " {'a': (_103:Person {name: 'Mark Zuckerberg'}),\n",
       "  'b': (Facebook)-[:FOUNDED_BY {}]->(Mark Zuckerberg),\n",
       "  'c': (_100:Company {name: 'Facebook', website: 'facebook.comfb.com'})}]"
      ]
     },
     "execution_count": 14,
     "metadata": {},
     "output_type": "execute_result"
    }
   ],
   "source": [
    "\n",
    "g.run(\"MATCH (a:Person)-[b:FOUNDED_BY]-(c:Company) RETURN a, b, c\").data()"
   ]
  },
  {
   "cell_type": "code",
   "execution_count": null,
   "metadata": {},
   "outputs": [],
   "source": []
  }
 ],
 "metadata": {
  "kernelspec": {
   "display_name": "Python 3",
   "language": "python",
   "name": "python3"
  },
  "language_info": {
   "codemirror_mode": {
    "name": "ipython",
    "version": 3
   },
   "file_extension": ".py",
   "mimetype": "text/x-python",
   "name": "python",
   "nbconvert_exporter": "python",
   "pygments_lexer": "ipython3",
   "version": "3.7.4"
  }
 },
 "nbformat": 4,
 "nbformat_minor": 2
}
