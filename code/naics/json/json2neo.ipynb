{
 "cells": [
  {
   "cell_type": "code",
   "execution_count": 153,
   "metadata": {},
   "outputs": [],
   "source": [
    "from py2neo import Graph, Node, Relationship\n",
    "import json"
   ]
  },
  {
   "cell_type": "code",
   "execution_count": 154,
   "metadata": {},
   "outputs": [],
   "source": [
    "g = Graph(password=\"neo4jneo4j\")"
   ]
  },
  {
   "cell_type": "code",
   "execution_count": 155,
   "metadata": {},
   "outputs": [],
   "source": [
    "with open('google.json') as f:\n",
    "    google_data = json.load(f)\n",
    "with open('apple.json') as f:\n",
    "    apple_data = json.load(f)\n",
    "with open('microsoft.json') as f:\n",
    "    microsoft_data = json.load(f)\n",
    "with open('fitbit.json') as f:\n",
    "    fitbit_data = json.load(f)\n",
    "with open('facebook.json') as f:\n",
    "    facebook_data = json.load(f)\n",
    "with open('motorola.json') as f:\n",
    "    motorola_data = json.load(f)\n",
    "with open('youtube.json') as f:\n",
    "    youtube_data = json.load(f)"
   ]
  },
  {
   "cell_type": "code",
   "execution_count": 156,
   "metadata": {},
   "outputs": [],
   "source": [
    "google_node = Node(\"Company\", name = google_data[0]['Title'], website=google_data[0]['Website'], found_date=google_data[0]['Founded'].split(';')[0], age=google_data[0]['Founded'].split(';')[1].split(' ')[1])\n",
    "apple_node = Node(\"Company\", name = apple_data[0]['Title'], website=apple_data[0]['Website'], found_date=apple_data[0]['Founded'].split(';')[0], age=apple_data[0]['Founded'].split(';')[1].split(' ')[1])\n",
    "microsoft_node = Node(\"Company\", name = microsoft_data[0]['Title'], website=microsoft_data[0]['Website'], found_date=microsoft_data[0]['Founded'].split(';')[0], age=microsoft_data[0]['Founded'].split(';')[1].split(' ')[1])\n",
    "fitbit_node = Node(\"Company\", name = fitbit_data[0]['Title'], website=fitbit_data[0]['Website'], found_date=fitbit_data[0]['Founded'].split(';')[0], age=fitbit_data[0]['Founded'].split(';')[1].split(' ')[1])\n",
    "facebook_node = Node(\"Company\", name = facebook_data[0]['Title'], website=facebook_data[0]['Website'], found_date=facebook_data[0]['Founded'].split(';')[0], age=facebook_data[0]['Founded'].split(';')[1].split(' ')[1])\n",
    "motorola_node = Node(\"Company\", name = motorola_data[0]['Title'], website=motorola_data[0]['Website'], found_date=motorola_data[0]['Founded'].split(';')[0], age=motorola_data[0]['Founded'].split(';')[1].split(' ')[1])\n",
    "youtube_node = Node(\"Company\", name = youtube_data[0]['Title'], website=youtube_data[0]['Website'], found_date=youtube_data[0]['Founded'].split(';')[0], age=youtube_data[0]['Founded'].split(';')[1].split(' ')[1])"
   ]
  },
  {
   "cell_type": "code",
   "execution_count": 157,
   "metadata": {},
   "outputs": [],
   "source": [
    "COMPETES_WITH = Relationship.type(\"COMPETES_WITH\")\n",
    "ACQUIRED_BY = Relationship.type(\"ACQUIRED_BY\")\n",
    "g.merge(COMPETES_WITH(apple_node, google_node), \"Company\", \"name\")\n",
    "g.merge(COMPETES_WITH(microsoft_node, google_node), \"Company\", \"name\")\n",
    "g.merge(COMPETES_WITH(facebook_node, google_node), \"Company\", \"name\")\n",
    "g.merge(ACQUIRED_BY(fitbit_node, google_node), \"Company\", \"name\")\n",
    "g.merge(ACQUIRED_BY(motorola_node, google_node), \"Company\", \"name\")\n",
    "g.merge(ACQUIRED_BY(youtube_node, google_node), \"Company\", \"name\")"
   ]
  },
  {
   "cell_type": "code",
   "execution_count": 158,
   "metadata": {},
   "outputs": [],
   "source": [
    "for i in facebook_data[0]['Founders'].split(','):\n",
    "    temp = Node(\"Person\", name=i)\n",
    "    g.merge(temp, \"Person\", \"name\")\n",
    "    temp1 = Relationship(facebook_node, \"FOUNDED_BY\", temp)\n",
    "    g.merge(temp1)\n",
    "temp = Node(\"Person\", name=facebook_data[0]['Key people'].split(' (Chairman and CEO)')[0])\n",
    "g.merge(temp, \"Person\", \"name\")\n",
    "temp1 = Relationship(temp, \"CEO_OF\", facebook_node)\n",
    "g.merge(temp1)\n",
    "\n",
    "for i in microsoft_data[0]['Founders'].split(','):\n",
    "    temp = Node(\"Person\", name=i)\n",
    "    g.merge(temp, \"Person\", \"name\")\n",
    "    temp1 = Relationship(microsoft_node, \"FOUNDED_BY\", temp)\n",
    "    g.merge(temp1)\n",
    "temp = Node(\"Person\", name=microsoft_data[0]['Key people'].split(', (CEO)')[0])\n",
    "g.merge(temp, \"Person\", \"name\")\n",
    "temp1 = Relationship(temp, \"CEO_OF\", microsoft_node)\n",
    "g.merge(temp1)\n",
    "\n",
    "for i in google_data[0]['Founders'].split(','):\n",
    "    temp = Node(\"Person\", name=i)\n",
    "    g.merge(temp, \"Person\", \"name\")\n",
    "    temp1 = Relationship(google_node, \"FOUNDED_BY\", temp)\n",
    "    g.merge(temp1)\n",
    "temp = Node(\"Person\", name=google_data[0]['Key people'].split(' (CEO)')[0])\n",
    "g.merge(temp, \"Person\", \"name\")\n",
    "temp1 = Relationship(temp, \"CEO_OF\", google_node)\n",
    "g.merge(temp1)\n",
    "\n",
    "for i in apple_data[0]['Founders'].split(','):\n",
    "    temp = Node(\"Person\", name=i)\n",
    "    g.merge(temp, \"Person\", \"name\")\n",
    "    temp1 = Relationship(apple_node, \"FOUNDED_BY\", temp)\n",
    "    g.merge(temp1)\n",
    "temp = Node(\"Person\", name=apple_data[0]['Key people'].split(' (CEO)')[0].split(', ')[1])\n",
    "g.merge(temp, \"Person\", \"name\")\n",
    "temp1 = Relationship(temp, \"CEO_OF\", apple_node)\n",
    "g.merge(temp1)\n",
    "\n",
    "for i in youtube_data[0]['Founder(s)'].split(','):\n",
    "    temp = Node(\"Person\", name=i)\n",
    "    g.merge(temp, \"Person\", \"name\")\n",
    "    temp1 = Relationship(youtube_node, \"FOUNDED_BY\", temp)\n",
    "    g.merge(temp1)\n",
    "temp = Node(\"Person\", name=youtube_data[0]['Key people'].split(' (CEO)')[0])\n",
    "g.merge(temp, \"Person\", \"name\")\n",
    "temp1 = Relationship(temp, \"CEO_OF\", youtube_node)\n",
    "g.merge(temp1)\n",
    "\n",
    "for i in fitbit_data[0]['Founders'].split(','):\n",
    "    temp = Node(\"Person\", name=i)\n",
    "    g.merge(temp, \"Person\", \"name\")\n",
    "    temp1 = Relationship(fitbit_node, \"FOUNDED_BY\", temp)\n",
    "    g.merge(temp1)\n",
    "temp = Node(\"Person\", name=fitbit_data[0]['Key people'].split(' (CEO)')[0])\n",
    "g.merge(temp, \"Person\", \"name\")\n",
    "temp1 = Relationship(temp, \"CEO_OF\", fitbit_node)\n",
    "g.merge(temp1)"
   ]
  },
  {
   "cell_type": "code",
   "execution_count": 159,
   "metadata": {},
   "outputs": [],
   "source": [
    "for i in facebook_data[0]['Industry'].split(','):\n",
    "    temp = Node(\"Industry\", name=i.lstrip())\n",
    "    g.merge(temp, \"Industry\", \"name\")\n",
    "    temp1 = Relationship(facebook_node, \"BUSINESS\", temp)\n",
    "    g.merge(temp1)     \n",
    "\n",
    "for i in microsoft_data[0]['Industry'].split(','):\n",
    "    temp = Node(\"Industry\", name=i.lstrip())\n",
    "    g.merge(temp, \"Industry\", \"name\")\n",
    "    temp1 = Relationship(microsoft_node, \"BUSINESS\", temp)\n",
    "    g.merge(temp1)     \n",
    "\n",
    "for i in google_data[0]['Industry'].split(','):\n",
    "    temp = Node(\"Industry\", name=i.lstrip())\n",
    "    g.merge(temp, \"Industry\", \"name\")\n",
    "    temp1 = Relationship(google_node, \"BUSINESS\", temp)\n",
    "    g.merge(temp1)     \n",
    "\n",
    "for i in apple_data[0]['Industry'].split(','):\n",
    "    temp = Node(\"Industry\", name=i.lstrip())\n",
    "    g.merge(temp, \"Industry\", \"name\")\n",
    "    temp1 = Relationship(apple_node, \"BUSINESS\", temp)\n",
    "    g.merge(temp1)\n",
    "\n",
    "for i in youtube_data[0]['Industry'].split(','):\n",
    "    temp = Node(\"Industry\", name=i.lstrip())\n",
    "    g.merge(temp, \"Industry\", \"name\")\n",
    "    temp1 = Relationship(youtube_node, \"BUSINESS\", temp)\n",
    "    g.merge(temp1)\n",
    "    \n",
    "for i in fitbit_data[0]['Industry'].split(','):\n",
    "    temp = Node(\"Industry\", name=i.lstrip())\n",
    "    g.merge(temp, \"Industry\", \"name\")\n",
    "    temp1 = Relationship(fitbit_node, \"BUSINESS\", temp)\n",
    "    g.merge(temp1)\n",
    "\n",
    "for i in motorola_data[0]['Industry'].split(','):\n",
    "    temp = Node(\"Industry\", name=i.lstrip())\n",
    "    g.merge(temp, \"Industry\", \"name\")\n",
    "    temp1 = Relationship(motorola_node, \"BUSINESS\", temp)\n",
    "    g.merge(temp1) "
   ]
  },
  {
   "cell_type": "code",
   "execution_count": 152,
   "metadata": {},
   "outputs": [
    {
     "data": {
      "text/plain": [
       "<py2neo.database.Cursor at 0x130f1c7ef48>"
      ]
     },
     "execution_count": 152,
     "metadata": {},
     "output_type": "execute_result"
    }
   ],
   "source": [
    "#g.run(\"MATCH (a)-[b]-(c) RETURN a, b, c\").data()\n",
    "#g.run(\"MATCH (a)-[b]-(c) DELETE a, b, c\")"
   ]
  },
  {
   "cell_type": "code",
   "execution_count": null,
   "metadata": {},
   "outputs": [],
   "source": []
  }
 ],
 "metadata": {
  "kernelspec": {
   "display_name": "Python 3",
   "language": "python",
   "name": "python3"
  },
  "language_info": {
   "codemirror_mode": {
    "name": "ipython",
    "version": 3
   },
   "file_extension": ".py",
   "mimetype": "text/x-python",
   "name": "python",
   "nbconvert_exporter": "python",
   "pygments_lexer": "ipython3",
   "version": "3.7.4"
  }
 },
 "nbformat": 4,
 "nbformat_minor": 2
}
