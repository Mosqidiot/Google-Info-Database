{
 "cells": [
  {
   "cell_type": "code",
   "execution_count": 112,
   "metadata": {},
   "outputs": [],
   "source": [
    "from py2neo import Graph, Node, Relationship\n",
    "import json\n",
    "import Levenshtein"
   ]
  },
  {
   "cell_type": "code",
   "execution_count": 113,
   "metadata": {},
   "outputs": [],
   "source": [
    "g = Graph(password=\"1234\")"
   ]
  },
  {
   "cell_type": "code",
   "execution_count": 114,
   "metadata": {},
   "outputs": [],
   "source": [
    "with open('google.json') as f:\n",
    "    google_data = json.load(f)\n",
    "with open('apple.json') as f:\n",
    "    apple_data = json.load(f)\n",
    "with open('microsoft.json') as f:\n",
    "    microsoft_data = json.load(f)\n",
    "with open('fitbit.json') as f:\n",
    "    fitbit_data = json.load(f)\n",
    "with open('facebook.json') as f:\n",
    "    facebook_data = json.load(f)\n",
    "with open('Motor.json') as f:\n",
    "    motorola_data = json.load(f)\n",
    "with open('Youtube.json') as f:\n",
    "    youtube_data = json.load(f)"
   ]
  },
  {
   "cell_type": "code",
   "execution_count": 115,
   "metadata": {},
   "outputs": [],
   "source": [
    "google_node = Node(\"Company\", name = google_data[0]['Title'], website=google_data[0]['Website'])\n",
    "apple_node = Node(\"Company\", name = apple_data[0]['Title'], website=apple_data[0]['Website'])\n",
    "microsoft_node = Node(\"Company\", name = microsoft_data[0]['Title'], website=microsoft_data[0]['Website'])\n",
    "fitbit_node = Node(\"Company\", name = fitbit_data[0]['Title'], website=fitbit_data[0]['Website'])\n",
    "facebook_node = Node(\"Company\", name = facebook_data[0]['Title'], website=facebook_data[0]['Website'])\n",
    "motorola_node = Node(\"Company\", name = motorola_data[0]['Title'], website=motorola_data[0]['Website'])\n",
    "youtube_node = Node(\"Company\", name = youtube_data[0]['Title'], website=youtube_data[0]['Website'])"
   ]
  },
  {
   "cell_type": "code",
   "execution_count": 116,
   "metadata": {},
   "outputs": [],
   "source": [
    "COMPETES_WITH = Relationship.type(\"COMPETES_WITH\")\n",
    "ACQUIRED_BY = Relationship.type(\"ACQUIRED_BY\")\n",
    "g.merge(COMPETES_WITH(apple_node, google_node), \"Company\", \"name\")\n",
    "g.merge(COMPETES_WITH(microsoft_node, google_node), \"Company\", \"name\")\n",
    "g.merge(COMPETES_WITH(facebook_node, google_node), \"Company\", \"name\")\n",
    "g.merge(ACQUIRED_BY(fitbit_node, google_node), \"Company\", \"name\")\n",
    "g.merge(ACQUIRED_BY(motorola_node, google_node), \"Company\", \"name\")\n",
    "g.merge(ACQUIRED_BY(youtube_node, google_node), \"Company\", \"name\")"
   ]
  },
  {
   "cell_type": "code",
   "execution_count": 117,
   "metadata": {},
   "outputs": [],
   "source": [
    "for i in facebook_data[0]['Founders'].split(','):\n",
    "    g.create(Relationship(facebook_node, \"FOUNDED_BY\", Node(\"Person\", name=i)))\n",
    "for i in microsoft_data[0]['Founders'].split(','):\n",
    "    g.create(Relationship(microsoft_node, \"FOUNDED_BY\", Node(\"Person\", name=i)))\n",
    "for i in google_data[0]['Founders'].split(','):\n",
    "    g.create(Relationship(google_node, \"FOUNDED_BY\", Node(\"Person\", name=i)))\n",
    "for i in apple_data[0]['Founders'].split(','):\n",
    "    g.create(Relationship(apple_node, \"FOUNDED_BY\", Node(\"Person\", name=i)))\n",
    "for i in fitbit_data[0]['Founders'].split(','):\n",
    "    g.create(Relationship(fitbit_node, \"FOUNDED_BY\", Node(\"Person\", name=i)))"
   ]
  },
  {
   "cell_type": "code",
   "execution_count": 118,
   "metadata": {},
   "outputs": [],
   "source": [
    "for i in facebook_data[0]['Industry'].split(','):\n",
    "    temp = Node(\"Industry\", name=i.lstrip())\n",
    "    g.merge(temp, \"Industry\", \"name\")\n",
    "    temp1 = Relationship(facebook_node, \"BUSINESS\", temp)\n",
    "    g.merge(temp1)     \n",
    "\n",
    "for i in microsoft_data[0]['Industry'].split(','):\n",
    "    temp = Node(\"Industry\", name=i.lstrip())\n",
    "    g.merge(temp, \"Industry\", \"name\")\n",
    "    temp1 = Relationship(microsoft_node, \"BUSINESS\", temp)\n",
    "    g.merge(temp1)     \n",
    "\n",
    "for i in google_data[0]['Industry'].split(','):\n",
    "    temp = Node(\"Industry\", name=i.lstrip())\n",
    "    g.merge(temp, \"Industry\", \"name\")\n",
    "    temp1 = Relationship(google_node, \"BUSINESS\", temp)\n",
    "    g.merge(temp1)     \n",
    "\n",
    "for i in apple_data[0]['Industry'].split(','):\n",
    "    temp = Node(\"Industry\", name=i.lstrip())\n",
    "    g.merge(temp, \"Industry\", \"name\")\n",
    "    temp1 = Relationship(apple_node, \"BUSINESS\", temp)\n",
    "    g.merge(temp1) \n",
    "\n",
    "for i in youtube_data[0]['Industry'].split(','):\n",
    "    temp = Node(\"Industry\", name=i.lstrip())\n",
    "    g.merge(temp, \"Industry\", \"name\")\n",
    "    temp1 = Relationship(youtube_node, \"BUSINESS\", temp)\n",
    "    g.merge(temp1)\n",
    "    \n",
    "for i in fitbit_data[0]['Industry'].split(','):\n",
    "    temp = Node(\"Industry\", name=i.lstrip())\n",
    "    g.merge(temp, \"Industry\", \"name\")\n",
    "    temp1 = Relationship(fitbit_node, \"BUSINESS\", temp)\n",
    "    g.merge(temp1)\n",
    "    \n",
    "for i in motorola_data[0]['Industry'].split(','):\n",
    "    temp = Node(\"Industry\", name=i.lstrip())\n",
    "    g.merge(temp, \"Industry\", \"name\")\n",
    "    temp1 = Relationship(motorola_node, \"BUSINESS\", temp)\n",
    "    g.merge(temp1) "
   ]
  },
  {
   "cell_type": "code",
   "execution_count": 119,
   "metadata": {},
   "outputs": [],
   "source": [
    "# get company name \n",
    "company_name_list = g.run(\"MATCH (c:Company) RETURN c.name as name\").data()"
   ]
  },
  {
   "cell_type": "code",
   "execution_count": 120,
   "metadata": {},
   "outputs": [],
   "source": [
    "# load naics related data\n",
    "f = open(\"./2012_NAICS_Structure.csv\", \"r\")\n",
    "content = f.read().split(\"\\n\")\n",
    "with open('naics.json') as f:\n",
    "    naics_data = json.load(f)"
   ]
  },
  {
   "cell_type": "code",
   "execution_count": 121,
   "metadata": {},
   "outputs": [],
   "source": [
    "#get naics code book as a dictionary\n",
    "naics_code_book = {}\n",
    "for line in content:\n",
    "    temp_code = line.split(\",\")[0]\n",
    "    temp_desc = line.split(\",\")[1]\n",
    "    naics_code_book[temp_code] = temp_desc  "
   ]
  },
  {
   "cell_type": "code",
   "execution_count": 122,
   "metadata": {},
   "outputs": [],
   "source": [
    "BELONGS_TO = Relationship.type(\"BELONGS_TO\")"
   ]
  },
  {
   "cell_type": "code",
   "execution_count": 123,
   "metadata": {},
   "outputs": [],
   "source": [
    "\n",
    "\n",
    "def getKey(item):\n",
    "    return item[0]\n",
    "\n",
    "for obj in naics_data:\n",
    "    name = obj['name'].split(\" \")[0]\n",
    "    l = [(Levenshtein.distance(item['name'].split(\" \")[0],name),item) for item in company_name_list]\n",
    "    l = sorted(l, key=getKey)\n",
    "    company_node = g.nodes.match('Company', name=l[0][1]['name']).first()\n",
    "    \n",
    "    prev = company_node\n",
    "    cur_code = obj['code']\n",
    "    while len(cur_code) > 0:\n",
    "        if cur_code in naics_code_book:\n",
    "            info = naics_code_book[cur_code]\n",
    "            info = info.replace(\"\\\"\",\"\").strip()\n",
    "            if info[-1] == \"T\":\n",
    "                info = info[0:-1]\n",
    "            temp = Node(\"NAICS_CODE\", code=cur_code, description=info)\n",
    "            g.merge(temp, \"NAICS_CODE\", \"code\")\n",
    "            temp_r = BELONGS_TO(prev, temp)\n",
    "            g.create(temp_r)\n",
    "            prev = temp\n",
    "        cur_code = cur_code[0:-1]"
   ]
  },
  {
   "cell_type": "code",
   "execution_count": null,
   "metadata": {},
   "outputs": [],
   "source": []
  }
 ],
 "metadata": {
  "kernelspec": {
   "display_name": "Python 3",
   "language": "python",
   "name": "python3"
  },
  "language_info": {
   "codemirror_mode": {
    "name": "ipython",
    "version": 3
   },
   "file_extension": ".py",
   "mimetype": "text/x-python",
   "name": "python",
   "nbconvert_exporter": "python",
   "pygments_lexer": "ipython3",
   "version": "3.7.3"
  },
  "latex_envs": {
   "LaTeX_envs_menu_present": true,
   "autoclose": false,
   "autocomplete": true,
   "bibliofile": "biblio.bib",
   "cite_by": "apalike",
   "current_citInitial": 1,
   "eqLabelWithNumbers": true,
   "eqNumInitial": 1,
   "hotkeys": {
    "equation": "Ctrl-E",
    "itemize": "Ctrl-I"
   },
   "labels_anchors": false,
   "latex_user_defs": false,
   "report_style_numbering": false,
   "user_envs_cfg": false
  }
 },
 "nbformat": 4,
 "nbformat_minor": 2
}
